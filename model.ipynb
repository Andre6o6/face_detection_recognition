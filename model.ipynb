{
 "cells": [
  {
   "cell_type": "code",
   "execution_count": null,
   "metadata": {},
   "outputs": [],
   "source": [
    "%pylab inline\n",
    "\n",
    "import os\n",
    "import numpy as np\n",
    "\n",
    "from PIL import Image\n",
    "\n",
    "import torch\n",
    "import torch.nn as nn\n",
    "import torch.nn.functional as F\n",
    "\n",
    "from torch.utils.data import DataLoader\n",
    "from torchvision import transforms"
   ]
  },
  {
   "cell_type": "code",
   "execution_count": null,
   "metadata": {},
   "outputs": [],
   "source": [
    "train_dataset = FaceDataset()\n",
    "val_dataset = FaceDataset()\n",
    "\n",
    "train_data_loader = DataLoader(train_dataset, batch_size=1, shuffle=True)\n",
    "val_data_loader = DataLoader(val_dataset, batch_size=1)"
   ]
  },
  {
   "cell_type": "code",
   "execution_count": null,
   "metadata": {},
   "outputs": [],
   "source": [
    "from torchvision.models import resnet34\n",
    "\n",
    "class SomeNet(torch.nn.Module):\n",
    "    def __init__(self, num_classes=1, anchors):\n",
    "        super().__init__()\n",
    "        \n",
    "        self.encoder = resnet34(pretrained=True)\n",
    "        \n",
    "        self.relu = nn.ReLU(inplace=True) \n",
    "        \n",
    "        # TODO more channels\n",
    "        self.conv1 = nn.Conv2d(512, 512, 3, padding=1, stride=2)\n",
    "        self.bn1 = nn.BatchNorm2d(512)\n",
    "        self.conv2 = nn.Conv2d(512, 512, 3, padding=1, stride=2)\n",
    "        self.bn1 = nn.BatchNorm2d(512)\n",
    "        self.conv3 = nn.Conv2d(512, 1024, 1)\n",
    "        self.bn2 = nn.BatchNorm2d(1024)\n",
    "        \n",
    "        self.last = nn.Conv2d(1024, (5+num_classes)*len(anchors), 1)\n",
    "        \n",
    "        # TODO: multi-head later\n",
    "        #self.conv_reg1 = nn.Conv2d(256, 5, 3, padding=1)\n",
    "        #self.conv_class1 = nn.Conv2d(256, bottleneck, 1)\n",
    "        #self.bn_class = nn.BatchNorm2d(bottleneck)\n",
    "        #self.conv_class2 = nn.Conv2d(bottleneck, num_classes, 1)\n",
    "    \n",
    "    def forward(self, x):\n",
    "        blocks = []\n",
    "        \n",
    "        #-> 3 640*640\n",
    "        \n",
    "        x = self.encoder.conv1(x)\n",
    "        x = self.encoder.bn1(x)\n",
    "        x = self.encoder.relu(x)\n",
    "        x = self.encoder.maxpool(x)\n",
    "        \n",
    "        x = self.encoder.layer1(x) \n",
    "        x = self.encoder.layer2(x)        \n",
    "        x = self.encoder.layer3(x)        \n",
    "        x = self.encoder.layer4(x)\n",
    "        #-> 512 20*20\n",
    "        \n",
    "        x = self.conv1(x)\n",
    "        x = self.bn1(x)\n",
    "        x = self.relu(x)\n",
    "        x = self.conv2(x)\n",
    "        x = self.bn2(x)\n",
    "        x = self.relu(x)\n",
    "        x = self.conv3(x)\n",
    "        x = self.bn2(x)\n",
    "        x = self.relu(x)\n",
    "        #-> 1024 5*5\n",
    "        \n",
    "        x = self.last(x)\n",
    "        return x"
   ]
  },
  {
   "cell_type": "code",
   "execution_count": null,
   "metadata": {},
   "outputs": [],
   "source": [
    "device = torch.device('cpu')\n",
    "if torch.cuda.is_available():\n",
    "    device = torch.device('cuda')\n",
    "\n",
    "net = SomeNet().to(device)"
   ]
  }
 ],
 "metadata": {
  "kernelspec": {
   "display_name": "Python 3",
   "language": "python",
   "name": "python3"
  },
  "language_info": {
   "codemirror_mode": {
    "name": "ipython",
    "version": 3
   },
   "file_extension": ".py",
   "mimetype": "text/x-python",
   "name": "python",
   "nbconvert_exporter": "python",
   "pygments_lexer": "ipython3",
   "version": "3.5.6"
  }
 },
 "nbformat": 4,
 "nbformat_minor": 2
}
